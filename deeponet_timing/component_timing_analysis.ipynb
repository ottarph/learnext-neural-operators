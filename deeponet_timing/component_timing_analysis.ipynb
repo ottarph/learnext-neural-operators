{
 "cells": [
  {
   "cell_type": "code",
   "execution_count": null,
   "metadata": {},
   "outputs": [],
   "source": [
    "import numpy as np\n",
    "import matplotlib.pyplot as plt\n",
    "import os\n",
    "from pathlib import Path\n",
    "\n",
    "os.chdir(\"..\")\n",
    "\n",
    "DATA_PATH = Path(\"deeponet_timing/timing_dno.txt\")\n",
    "OUTPUT_PATH = Path(\"output/figures\")\n",
    "\n",
    "print(os.getcwd())"
   ]
  },
  {
   "cell_type": "code",
   "execution_count": null,
   "metadata": {},
   "outputs": [],
   "source": [
    "\n",
    "entries = []\n",
    "with open(DATA_PATH, \"r\") as infile:\n",
    "    entry = []\n",
    "    newline = infile.readline()\n",
    "    while newline != \"\":\n",
    "        if newline[:9] == \"mesh_mult\":\n",
    "            entries.append(entry)\n",
    "            entry = []\n",
    "        entry.append(newline)\n",
    "        newline = infile.readline()\n",
    "entries = entries[1:]\n",
    "print(entries)\n"
   ]
  },
  {
   "cell_type": "code",
   "execution_count": null,
   "metadata": {},
   "outputs": [],
   "source": [
    "array = np.zeros((len(entries), 3))\n",
    "for k, entry in enumerate(entries):\n",
    "    array[k,0] = float(entry[4][25:-6])\n",
    "    array[k,1] = float(entry[12][-9:])\n",
    "    array[k,2] = float(entry[22][-9:])\n",
    "    # print(entry[4][25:-6])\n",
    "    # print(entry[12][-9:])\n",
    "    # print(entry[22][-9:])\n",
    "inds = np.argsort(array[:,0])\n",
    "array = array[inds,:]\n"
   ]
  },
  {
   "cell_type": "code",
   "execution_count": null,
   "metadata": {},
   "outputs": [],
   "source": [
    "fig, ax = plt.subplots()\n",
    "\n",
    "ax.loglog(array[:,0], array[:,1], 'ko-', label=\"CPU\")\n",
    "ax.loglog(array[:,0], array[:,2], 'ko--', label=\"GPU\")\n",
    "ax.legend()\n",
    "ax.set_xlabel(\"number of vertices\")\n",
    "ax.set_ylabel(\"inference time\")\n",
    "\n"
   ]
  }
 ],
 "metadata": {
  "kernelspec": {
   "display_name": "deeponet-learnext",
   "language": "python",
   "name": "python3"
  },
  "language_info": {
   "codemirror_mode": {
    "name": "ipython",
    "version": 3
   },
   "file_extension": ".py",
   "mimetype": "text/x-python",
   "name": "python",
   "nbconvert_exporter": "python",
   "pygments_lexer": "ipython3",
   "version": "3.10.13"
  }
 },
 "nbformat": 4,
 "nbformat_minor": 2
}
